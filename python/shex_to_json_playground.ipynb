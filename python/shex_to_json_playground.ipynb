{
 "cells": [
  {
   "cell_type": "code",
   "execution_count": null,
   "id": "56a76033-737c-48d2-96cb-ffd5ec602e44",
   "metadata": {},
   "outputs": [],
   "source": [
    "from os import path\n",
    "import json\n",
    "import requests\n",
    "from typing import List\n",
    "from ontobio.rdfgen.assoc_rdfgen import prefix_context\n",
    "from prefixcommons.curie_util import contract_uri\n",
    "from pyshexc.parser_impl import generate_shexj\n",
    "from typing import Optional, List, Union\n",
    "from ShExJSG.ShExJ import Shape, ShapeAnd, ShapeOr, ShapeNot, TripleConstraint, shapeExprLabel, shapeExpr, shapeExprLabel, tripleExpr, tripleExprLabel, OneOf, EachOf\n",
    "from pyshex import PrefixLibrary"
   ]
  },
  {
   "cell_type": "code",
   "execution_count": null,
   "id": "673f964a-0055-4543-b0d0-5b2e605ddb5e",
   "metadata": {},
   "outputs": [],
   "source": [
    "shex_url = \"https://raw.githubusercontent.com/geneontology/go-shapes/master/shapes/go-cam-shapes.shex\"\n",
    "shex_response = requests.get(shex_url)\n",
    "shex = generate_shexj.parse(shex_response.text)\n",
    "pref = PrefixLibrary(shex_response.text)"
   ]
  },
  {
   "cell_type": "code",
   "execution_count": null,
   "id": "459c51e3-9625-4220-8080-8eb28b225a51",
   "metadata": {},
   "outputs": [],
   "source": [
    "def get_suffix(uri):\n",
    "    suffix = contract_uri(uri, cmaps=[prefix_context])\n",
    "    if len(suffix) > 0:\n",
    "        return suffix[0]\n",
    "\n",
    "    return path.basename(uri)\n"
   ]
  },
  {
   "cell_type": "code",
   "execution_count": null,
   "id": "1fcc3240-0722-4235-91b4-7ba6356796a0",
   "metadata": {},
   "outputs": [],
   "source": [
    "pref_dict = {k:get_suffix(str(v)) for (k,v) in dict(pref).items() if str(v).startswith('http://purl.obolibrary.org/obo/')}\n",
    "del pref_dict['OBO']"
   ]
  },
  {
   "cell_type": "code",
   "execution_count": null,
   "id": "4f016014-8d91-45ae-affe-a8578d87e2e3",
   "metadata": {},
   "outputs": [],
   "source": [
    "def lookup_table():\n",
    "    table = {v:\n",
    "             {\n",
    "                'label':k\n",
    "             } \n",
    "             for (k,v) in pref_dict.items()}\n",
    "    return table"
   ]
  },
  {
   "cell_type": "code",
   "execution_count": null,
   "id": "7febf197-6679-493c-bb0e-fb7872a5d333",
   "metadata": {},
   "outputs": [],
   "source": [
    "def get_shape_name(uri, clean=False):\n",
    "    name = path.basename(uri).upper() \n",
    "    if '/go/' in uri:\n",
    "        name = 'GO'+name\n",
    "    return pref_dict.get(name, None if clean else uri )\n",
    "    "
   ]
  },
  {
   "cell_type": "code",
   "execution_count": null,
   "id": "e25a7994-3ffe-4ea0-af5c-b6f424e8d8a4",
   "metadata": {},
   "outputs": [],
   "source": [
    "def load_expr(expr: Optional[Union[shapeExprLabel, shapeExpr]], preds=None) -> []:\n",
    "   \n",
    "    if(preds == None):\n",
    "        preds = {}\n",
    "    if isinstance(expr, str) and isinstance(preds, list):\n",
    "        preds.append(get_shape_name(expr))\n",
    "    if isinstance(expr, (ShapeOr, ShapeAnd)):\n",
    "        for expr2 in expr.shapeExprs:\n",
    "            load_expr(expr2, preds)\n",
    "    elif isinstance(expr, ShapeNot):\n",
    "        load_expr(expr.shapeExpr, preds)\n",
    "    elif isinstance(expr, Shape):\n",
    "        if expr.expression is not None:\n",
    "            load_triple(expr.expression, preds)\n",
    "    \n",
    "    return preds\n",
    "            \n",
    "def load_triple( expr: Union[tripleExpr, tripleExprLabel], preds=None) -> None:\n",
    "    \n",
    "        if isinstance(expr, (OneOf, EachOf)):\n",
    "            for expr2 in expr.expressions:\n",
    "                load_triple(expr2, preds)\n",
    "        elif isinstance(expr, TripleConstraint):\n",
    "            if expr.valueExpr is not None:\n",
    "                pred = get_suffix(expr.predicate)\n",
    "                \n",
    "                if pred not in pref_dict.values():\n",
    "                    return\n",
    "                \n",
    "                preds[pred] = {}\n",
    "                preds[pred]['targets'] = []\n",
    "                \n",
    "                if expr.max != None:\n",
    "                    preds[pred]['cardinality'] = expr.max                    \n",
    "                \n",
    "                load_expr(expr.valueExpr, preds[pred]['targets'])"
   ]
  },
  {
   "cell_type": "code",
   "execution_count": null,
   "id": "b43165da-0a45-4a92-894d-0d02e30a3440",
   "metadata": {},
   "outputs": [],
   "source": [
    "shapes_res = {}\n",
    "shapes = shex.shapes\n",
    "\n",
    "for shape in shapes:\n",
    "    shape_name = get_shape_name(shape['id'], True)\n",
    "    \n",
    "    if shape_name == None:\n",
    "        continue\n",
    "    \n",
    "    shapes_res[shape_name] = {}\n",
    "\n",
    "    shexps = shape.shapeExprs or []       \n",
    "\n",
    "    for expr in shexps:\n",
    "        shapes_res[shape_name] = load_expr(expr)"
   ]
  },
  {
   "cell_type": "code",
   "execution_count": null,
   "id": "29ed3690-a3cc-470c-b6f9-c1792c88a159",
   "metadata": {},
   "outputs": [],
   "source": [
    "with open(\"shex_dump.json\", \"w\") as sf:\n",
    "    json.dump(shapes_res, sf, indent=2)"
   ]
  },
  {
   "cell_type": "code",
   "execution_count": null,
   "id": "117001fd-c42c-4957-9c19-5a59236e92db",
   "metadata": {},
   "outputs": [],
   "source": [
    "with open(\"look_table.json\", \"w\") as sf:\n",
    "    json.dump(lookup_table(), sf, indent=2)"
   ]
  },
  {
   "cell_type": "code",
   "execution_count": null,
   "id": "a85fb0d8-cfc2-41f6-9954-92b46cd5bf68",
   "metadata": {},
   "outputs": [],
   "source": []
  }
 ],
 "metadata": {
  "kernelspec": {
   "display_name": "Python 3.8.10 ('venv': venv)",
   "language": "python",
   "name": "python3"
  },
  "language_info": {
   "codemirror_mode": {
    "name": "ipython",
    "version": 3
   },
   "file_extension": ".py",
   "mimetype": "text/x-python",
   "name": "python",
   "nbconvert_exporter": "python",
   "pygments_lexer": "ipython3",
   "version": "3.8.10"
  },
  "vscode": {
   "interpreter": {
    "hash": "fd3b897b1e7df8fe01541c1cc54eb2b15faa6ce950f05eeae4aaf5e5940a405f"
   }
  }
 },
 "nbformat": 4,
 "nbformat_minor": 5
}
